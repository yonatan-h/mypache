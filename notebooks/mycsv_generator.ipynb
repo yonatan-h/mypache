{
 "cells": [
  {
   "cell_type": "code",
   "execution_count": 6,
   "id": "08198b46-2a3b-4529-b966-cb9305305ca5",
   "metadata": {},
   "outputs": [
    {
     "name": "stdout",
     "output_type": "stream",
     "text": [
      "x,y\n",
      "\n"
     ]
    }
   ],
   "source": [
    "# open file\n",
    "file = open('./mycsv.csv')\n",
    "print(file.readline())"
   ]
  },
  {
   "cell_type": "code",
   "execution_count": 1,
   "id": "dc40cda4-962a-416a-8b6d-b6f2fce69c11",
   "metadata": {},
   "outputs": [
    {
     "name": "stdout",
     "output_type": "stream",
     "text": [
      "       x            y\n",
      "0      0     0.140294\n",
      "1      1     0.922763\n",
      "2      2     5.689606\n",
      "3      3     6.302461\n",
      "4      4     9.263797\n",
      "..   ...          ...\n",
      "995  995  1989.185151\n",
      "996  996  1990.741594\n",
      "997  997  1996.460516\n",
      "998  998  1996.347241\n",
      "999  999  2001.267238\n",
      "\n",
      "[1000 rows x 2 columns]\n"
     ]
    }
   ],
   "source": [
    "# generate \n",
    "from random import random\n",
    "import pandas as pd\n",
    "\n",
    "xy_pairs = [] #for \n",
    "for i in range(1000):\n",
    "    x = i\n",
    "    y = 2*x + 1 + random()*5-2.5\n",
    "    xy_pairs.append([x,y])\n",
    "\n",
    "df = pd.DataFrame(xy_pairs, columns=[\"x\", \"y\"])\n",
    "print(df)"
   ]
  },
  {
   "cell_type": "code",
   "execution_count": 2,
   "id": "9ce1d078-a2b4-4d5c-99df-9d6ae2b4c6dd",
   "metadata": {},
   "outputs": [],
   "source": [
    "# save\n",
    "df.to_csv(\"mycsv.csv\", index=False)"
   ]
  },
  {
   "cell_type": "code",
   "execution_count": null,
   "id": "ca94c1e3-6056-413a-bb0d-b87a24a0b4b3",
   "metadata": {},
   "outputs": [],
   "source": []
  }
 ],
 "metadata": {
  "kernelspec": {
   "display_name": "Python 3 (ipykernel)",
   "language": "python",
   "name": "python3"
  },
  "language_info": {
   "codemirror_mode": {
    "name": "ipython",
    "version": 3
   },
   "file_extension": ".py",
   "mimetype": "text/x-python",
   "name": "python",
   "nbconvert_exporter": "python",
   "pygments_lexer": "ipython3",
   "version": "3.12.3"
  }
 },
 "nbformat": 4,
 "nbformat_minor": 5
}
